{
 "cells": [
  {
   "cell_type": "markdown",
   "metadata": {},
   "source": [
    "# Introduction\n",
    "\n",
    "In this project, you will build a neural network of your own design to evaluate the CIFAR-10 dataset.\n",
    "Our target accuracy is 70%, but any accuracy over 50% is a great start.\n",
    "Some of the benchmark results on CIFAR-10 include:\n",
    "\n",
    "78.9% Accuracy | [Deep Belief Networks; Krizhevsky, 2010](https://www.cs.toronto.edu/~kriz/conv-cifar10-aug2010.pdf)\n",
    "\n",
    "90.6% Accuracy | [Maxout Networks; Goodfellow et al., 2013](https://arxiv.org/pdf/1302.4389.pdf)\n",
    "\n",
    "96.0% Accuracy | [Wide Residual Networks; Zagoruyko et al., 2016](https://arxiv.org/pdf/1605.07146.pdf)\n",
    "\n",
    "99.0% Accuracy | [GPipe; Huang et al., 2018](https://arxiv.org/pdf/1811.06965.pdf)\n",
    "\n",
    "98.5% Accuracy | [Rethinking Recurrent Neural Networks and other Improvements for ImageClassification; Nguyen et al., 2020](https://arxiv.org/pdf/2007.15161.pdf)\n",
    "\n",
    "Research with this dataset is ongoing. Notably, many of these networks are quite large and quite expensive to train. \n",
    "\n",
    "## Imports"
   ]
  },
  {
   "cell_type": "code",
   "execution_count": 1,
   "metadata": {},
   "outputs": [],
   "source": [
    "## This cell contains the essential imports you will need – DO NOT CHANGE THE CONTENTS! ##\n",
    "import torch\n",
    "import torch.nn as nn\n",
    "import torch.nn.functional as F\n",
    "import torch.optim as optim\n",
    "import torchvision\n",
    "import torchvision.transforms as transforms\n",
    "import matplotlib.pyplot as plt\n",
    "import numpy as np"
   ]
  },
  {
   "cell_type": "markdown",
   "metadata": {},
   "source": [
    "## Load the Dataset\n",
    "\n",
    "Specify your transforms as a list first.\n",
    "The transforms module is already loaded as `transforms`.\n",
    "\n",
    "CIFAR-10 is fortunately included in the torchvision module.\n",
    "Then, you can create your dataset using the `CIFAR10` object from `torchvision.datasets` ([the documentation is available here](https://pytorch.org/docs/stable/torchvision/datasets.html#cifar)).\n",
    "Make sure to specify `download=True`! \n",
    "\n",
    "Once your dataset is created, you'll also need to define a `DataLoader` from the `torch.utils.data` module for both the train and the test set."
   ]
  },
  {
   "cell_type": "code",
   "execution_count": 2,
   "metadata": {},
   "outputs": [
    {
     "name": "stdout",
     "output_type": "stream",
     "text": [
      "Files already downloaded and verified\n",
      "Files already downloaded and verified\n"
     ]
    }
   ],
   "source": [
    "# Define transforms\n",
    "## YOUR CODE HERE ##\n",
    "from torchvision import datasets\n",
    "from  torch.utils.data import DataLoader\n",
    "from torch.utils.data.sampler import SubsetRandomSampler\n",
    "\n",
    "train_transform = transforms.Compose([\n",
    "                                transforms.RandomHorizontalFlip(),\n",
    "                                transforms.RandomRotation(10),\n",
    "                                transforms.ToTensor(),\n",
    "                                transforms.Normalize((0.5, 0.5, 0.5), (0.5, 0.5, 0.5))\n",
    "                                ])\n",
    "test_transform = transforms.Compose([\n",
    "                                transforms.ToTensor(),\n",
    "                                transforms.Normalize((0.5, 0.5, 0.5), (0.5, 0.5, 0.5))\n",
    "                                ])\n",
    "#transforms.GaussianBlur(kernel_size, sigma=(0.1, 2.0))\n",
    "\n",
    "# Create training set and define training dataloader\n",
    "## YOUR CODE HERE ##\n",
    "\n",
    "# choose the training and test datasets\n",
    "train_data = datasets.CIFAR10('data', train=True, download=True, transform=train_transform)\n",
    "test_data = datasets.CIFAR10('data', train=False,download=True, transform=test_transform)\n",
    "\n",
    "valid_size = 0.2\n",
    "num_train = len(test_data)\n",
    "indices = list(range(num_train))\n",
    "np.random.shuffle(indices)\n",
    "split = int(np.floor(valid_size * num_train))\n",
    "test_idx, valid_idx = indices[split:], indices[:split]\n",
    "\n",
    "test_sampler = SubsetRandomSampler(test_idx)\n",
    "valid_sampler = SubsetRandomSampler(valid_idx)\n",
    "\n",
    "train_loader = DataLoader(train_data,batch_size=32,num_workers=0)\n",
    "valid_loader = DataLoader(test_data,batch_size=20,sampler=valid_sampler, num_workers=0)\n",
    "\n",
    "# Create test set and define test dataloader\n",
    "\n",
    "test_loader = DataLoader(test_data,batch_size=20,sampler=test_sampler,num_workers=0)\n",
    "# The 10 classes in the dataset\n",
    "classes = ('plane', 'car', 'bird', 'cat', 'deer', 'dog', 'frog', 'horse', 'ship', 'truck')"
   ]
  },
  {
   "cell_type": "markdown",
   "metadata": {},
   "source": [
    "## Explore the Dataset\n",
    "Using matplotlib, numpy, and torch, explore the dimensions of your data.\n",
    "\n",
    "You can view images using the `show5` function defined below – it takes a data loader as an argument.\n",
    "Remember that normalized images will look really weird to you! You may want to try changing your transforms to view images.\n",
    "Typically using no transforms other than `toTensor()` works well for viewing – but not as well for training your network.\n",
    "If `show5` doesn't work, go back and check your code for creating your data loaders and your training/test sets."
   ]
  },
  {
   "cell_type": "code",
   "execution_count": 3,
   "metadata": {},
   "outputs": [],
   "source": [
    "def show5(img_loader):\n",
    "    dataiter = iter(img_loader)\n",
    "    \n",
    "    batch = next(dataiter)\n",
    "    labels = batch[1][0:5]\n",
    "    images = batch[0][0:5]\n",
    "    fig = plt.figure(figsize=(10,10))\n",
    "    for i in range(5):\n",
    "        ax = fig.add_subplot(1, 5, i+1, xticks=[], yticks=[])\n",
    "        image = images[i].numpy()\n",
    "        image = image / 2 + 0.5\n",
    "        \n",
    "        plt.imshow((np.transpose(image, (1, 2, 0))))\n",
    "        ax.set_title(classes[labels[i]]) \n",
    "    #plt.show()"
   ]
  },
  {
   "cell_type": "code",
   "execution_count": 4,
   "metadata": {},
   "outputs": [
    {
     "name": "stdout",
     "output_type": "stream",
     "text": [
      "Size of Training Data: 50000 images\n",
      "Size of Training Data: Color_Channels: 3 Length: 32 Width: 32 \n"
     ]
    },
    {
     "data": {
      "image/png": "[encoded data removed]",
      "text/plain": [
       "<Figure size 720x720 with 5 Axes>"
      ]
     },
     "metadata": {},
     "output_type": "display_data"
    }
   ],
   "source": [
    "# Explore data\n",
    "## YOUR CODE HERE ##\n",
    "dataiter = iter(train_loader)\n",
    "batch = next(dataiter)\n",
    "images = batch[0][0]\n",
    "print(f\"Size of Training Data: {len(train_data)} images\")\n",
    "print(f\"Size of Training Data: Color_Channels: {images.shape[0]} Length: {images.shape[1]} Width: {images.shape[2]} \")\n",
    "show5(test_loader)"
   ]
  },
  {
   "cell_type": "markdown",
   "metadata": {},
   "source": [
    "## Build your Neural Network\n",
    "Using the layers in `torch.nn` (which has been imported as `nn`) and the `torch.nn.functional` module (imported as `F`), construct a neural network based on the parameters of the dataset. \n",
    "Feel free to construct a model of any architecture – feedforward, convolutional, or even something more advanced!"
   ]
  },
  {
   "cell_type": "code",
   "execution_count": 5,
   "metadata": {},
   "outputs": [],
   "source": [
    "## YOUR CODE HERE ##\n",
    "class Model(nn.Module):\n",
    "    def __init__(self):\n",
    "        super(Model,self).__init__()\n",
    "        self.c1 = nn.Conv2d(3,32,3,padding=1) # out_______16x16\n",
    "        self.c2 = nn.Conv2d(32,64,3,padding=1) # out______8x8\n",
    "        self.c3 = nn.Conv2d(64,128,3,padding=1) # out_____4x4\n",
    "        self.c4 = nn.Conv2d(128,32,3,padding=1) # out_____2x2\n",
    "\n",
    "        self.pool = nn.MaxPool2d(2,2)\n",
    "        self.drop1 = nn.Dropout(p=0.3)\n",
    "        self.drop = nn.Dropout(p=0.23)\n",
    "        \n",
    "        self.f1 = nn.Linear(32*2*2,512)\n",
    "        self.f2 = nn.Linear(512,256)\n",
    "        self.f3 = nn.Linear(256,128)\n",
    "        self.f4 = nn.Linear(128,10)\n",
    "    \n",
    "    def forward(self,x):\n",
    "        x = self.pool(self.c1(x))\n",
    "        x = self.pool(self.c2(x))\n",
    "        x = self.pool(self.c3(x))\n",
    "        x = self.pool(self.c4(x))\n",
    "\n",
    "        x = x.view(-1,32*2*2)\n",
    "        \n",
    "        x = self.drop(x)\n",
    "        x = F.relu(self.drop(self.f1(x)))\n",
    "        x = F.relu(self.drop1(self.f2(x)))\n",
    "        x = F.relu(self.drop(self.f3(x)))\n",
    "        x = self.f4(x)\n",
    "        return x"
   ]
  },
  {
   "cell_type": "markdown",
   "metadata": {},
   "source": [
    "Specify a loss function and an optimizer, and instantiate the model.\n",
    "\n",
    "If you use a less common loss function, please note why you chose that loss function in a comment."
   ]
  },
  {
   "cell_type": "code",
   "execution_count": 6,
   "metadata": {},
   "outputs": [
    {
     "name": "stdout",
     "output_type": "stream",
     "text": [
      "----------------------------------------------------------------\n",
      "        Layer (type)               Output Shape         Param #\n",
      "================================================================\n",
      "            Conv2d-1           [-1, 32, 32, 32]             896\n",
      "         MaxPool2d-2           [-1, 32, 16, 16]               0\n",
      "            Conv2d-3           [-1, 64, 16, 16]          18,496\n",
      "         MaxPool2d-4             [-1, 64, 8, 8]               0\n",
      "            Conv2d-5            [-1, 128, 8, 8]          73,856\n",
      "         MaxPool2d-6            [-1, 128, 4, 4]               0\n",
      "            Conv2d-7             [-1, 32, 4, 4]          36,896\n",
      "         MaxPool2d-8             [-1, 32, 2, 2]               0\n",
      "           Dropout-9                  [-1, 128]               0\n",
      "           Linear-10                  [-1, 512]          66,048\n",
      "          Dropout-11                  [-1, 512]               0\n",
      "           Linear-12                  [-1, 256]         131,328\n",
      "          Dropout-13                  [-1, 256]               0\n",
      "           Linear-14                  [-1, 128]          32,896\n",
      "          Dropout-15                  [-1, 128]               0\n",
      "           Linear-16                   [-1, 10]           1,290\n",
      "================================================================\n",
      "Total params: 361,706\n",
      "Trainable params: 361,706\n",
      "Non-trainable params: 0\n",
      "----------------------------------------------------------------\n",
      "Input size (MB): 0.01\n",
      "Forward/backward pass size (MB): 0.57\n",
      "Params size (MB): 1.38\n",
      "Estimated Total Size (MB): 1.96\n",
      "----------------------------------------------------------------\n"
     ]
    }
   ],
   "source": [
    "## YOUR CODE HERE ##\n",
    "from torchsummary import summary\n",
    "model = Model()\n",
    "model.cuda()\n",
    "summary(model, (3, 32, 32))\n",
    "loss_fn = nn.CrossEntropyLoss()\n",
    "optimizer = optim.SGD(model.parameters(), lr=0.01,momentum=0.8)"
   ]
  },
  {
   "cell_type": "markdown",
   "metadata": {},
   "source": [
    "## Running your Neural Network\n",
    "Use whatever method you like to train your neural network, and ensure you record the average loss at each epoch. \n",
    "Don't forget to use `torch.device()` and the `.to()` method for both your model and your data if you are using GPU!\n",
    "\n",
    "If you want to print your loss during each epoch, you can use the `enumerate` function and print the loss after a set number of batches. 250 batches works well for most people!"
   ]
  },
  {
   "cell_type": "code",
   "execution_count": 7,
   "metadata": {},
   "outputs": [
    {
     "name": "stdout",
     "output_type": "stream",
     "text": [
      "Training on 50 epochs...\n",
      "Least Validation Loss Decreased \tSaving Model...\n",
      "Epoch: 1 \tTraining Loss: 2.055944 \tValidation Loss: 1.652959 \tLeast Validation Loss Recorded: 1.652959\n",
      "Least Validation Loss Decreased \tSaving Model...\n",
      "Epoch: 2 \tTraining Loss: 1.559526 \tValidation Loss: 1.364565 \tLeast Validation Loss Recorded: 1.364565\n",
      "Least Validation Loss Decreased \tSaving Model...\n",
      "Epoch: 3 \tTraining Loss: 1.350498 \tValidation Loss: 1.210243 \tLeast Validation Loss Recorded: 1.210243\n",
      "Least Validation Loss Decreased \tSaving Model...\n",
      "Epoch: 4 \tTraining Loss: 1.220747 \tValidation Loss: 1.057881 \tLeast Validation Loss Recorded: 1.057881\n",
      "Least Validation Loss Decreased \tSaving Model...\n",
      "Epoch: 5 \tTraining Loss: 1.136761 \tValidation Loss: 1.003695 \tLeast Validation Loss Recorded: 1.003695\n",
      "Least Validation Loss Decreased \tSaving Model...\n",
      "Epoch: 6 \tTraining Loss: 1.073045 \tValidation Loss: 0.963028 \tLeast Validation Loss Recorded: 0.963028\n",
      "Least Validation Loss Decreased \tSaving Model...\n",
      "Epoch: 7 \tTraining Loss: 1.025315 \tValidation Loss: 0.924233 \tLeast Validation Loss Recorded: 0.924233\n",
      "Least Validation Loss Decreased \tSaving Model...\n",
      "Epoch: 8 \tTraining Loss: 0.987350 \tValidation Loss: 0.895868 \tLeast Validation Loss Recorded: 0.895868\n",
      "Least Validation Loss Decreased \tSaving Model...\n",
      "Epoch: 9 \tTraining Loss: 0.950220 \tValidation Loss: 0.863861 \tLeast Validation Loss Recorded: 0.863861\n",
      "Least Validation Loss Decreased \tSaving Model...\n",
      "Epoch: 10 \tTraining Loss: 0.933801 \tValidation Loss: 0.850905 \tLeast Validation Loss Recorded: 0.850905\n",
      "Least Validation Loss Decreased \tSaving Model...\n",
      "Epoch: 11 \tTraining Loss: 0.904562 \tValidation Loss: 0.808642 \tLeast Validation Loss Recorded: 0.808642\n",
      "Least Validation Loss Decreased \tSaving Model...\n",
      "Epoch: 12 \tTraining Loss: 0.884107 \tValidation Loss: 0.805535 \tLeast Validation Loss Recorded: 0.805535\n",
      "Least Validation Loss Decreased \tSaving Model...\n",
      "Epoch: 13 \tTraining Loss: 0.867776 \tValidation Loss: 0.800952 \tLeast Validation Loss Recorded: 0.800952\n",
      "Least Validation Loss Decreased \tSaving Model...\n",
      "Epoch: 14 \tTraining Loss: 0.852254 \tValidation Loss: 0.777694 \tLeast Validation Loss Recorded: 0.777694\n",
      "Epoch: 15 \tTraining Loss: 0.838172 \tValidation Loss: 0.789156 \tLeast Validation Loss Recorded: 0.777694\n",
      "Least Validation Loss Decreased \tSaving Model...\n",
      "Epoch: 16 \tTraining Loss: 0.822268 \tValidation Loss: 0.770658 \tLeast Validation Loss Recorded: 0.770658\n",
      "Least Validation Loss Decreased \tSaving Model...\n",
      "Epoch: 17 \tTraining Loss: 0.813406 \tValidation Loss: 0.751524 \tLeast Validation Loss Recorded: 0.751524\n",
      "Least Validation Loss Decreased \tSaving Model...\n",
      "Epoch: 18 \tTraining Loss: 0.809092 \tValidation Loss: 0.742674 \tLeast Validation Loss Recorded: 0.742674\n",
      "Epoch: 19 \tTraining Loss: 0.799119 \tValidation Loss: 0.773644 \tLeast Validation Loss Recorded: 0.742674\n",
      "Least Validation Loss Decreased \tSaving Model...\n",
      "Epoch: 20 \tTraining Loss: 0.795275 \tValidation Loss: 0.719091 \tLeast Validation Loss Recorded: 0.719091\n",
      "Epoch: 21 \tTraining Loss: 0.781960 \tValidation Loss: 0.732376 \tLeast Validation Loss Recorded: 0.719091\n",
      "Epoch: 22 \tTraining Loss: 0.777637 \tValidation Loss: 0.751724 \tLeast Validation Loss Recorded: 0.719091\n",
      "Epoch: 23 \tTraining Loss: 0.767323 \tValidation Loss: 0.733953 \tLeast Validation Loss Recorded: 0.719091\n",
      "Epoch: 24 \tTraining Loss: 0.772573 \tValidation Loss: 0.749266 \tLeast Validation Loss Recorded: 0.719091\n",
      "Epoch: 25 \tTraining Loss: 0.763507 \tValidation Loss: 0.757451 \tLeast Validation Loss Recorded: 0.719091\n",
      "Least Validation Loss Decreased \tSaving Model...\n",
      "Epoch: 26 \tTraining Loss: 0.759591 \tValidation Loss: 0.717029 \tLeast Validation Loss Recorded: 0.717029\n",
      "Least Validation Loss Decreased \tSaving Model...\n",
      "Epoch: 27 \tTraining Loss: 0.755783 \tValidation Loss: 0.716592 \tLeast Validation Loss Recorded: 0.716592\n",
      "Epoch: 28 \tTraining Loss: 0.755409 \tValidation Loss: 0.732952 \tLeast Validation Loss Recorded: 0.716592\n",
      "Least Validation Loss Decreased \tSaving Model...\n",
      "Epoch: 29 \tTraining Loss: 0.744626 \tValidation Loss: 0.715119 \tLeast Validation Loss Recorded: 0.715119\n",
      "Epoch: 30 \tTraining Loss: 0.751055 \tValidation Loss: 0.719893 \tLeast Validation Loss Recorded: 0.715119\n",
      "Epoch: 31 \tTraining Loss: 0.735796 \tValidation Loss: 0.716917 \tLeast Validation Loss Recorded: 0.715119\n",
      "Least Validation Loss Decreased \tSaving Model...\n",
      "Epoch: 32 \tTraining Loss: 0.740806 \tValidation Loss: 0.700241 \tLeast Validation Loss Recorded: 0.700241\n",
      "Epoch: 33 \tTraining Loss: 0.737284 \tValidation Loss: 0.736851 \tLeast Validation Loss Recorded: 0.700241\n",
      "Epoch: 34 \tTraining Loss: 0.735953 \tValidation Loss: 0.716528 \tLeast Validation Loss Recorded: 0.700241\n",
      "Epoch: 35 \tTraining Loss: 0.738480 \tValidation Loss: 0.733462 \tLeast Validation Loss Recorded: 0.700241\n",
      "Least Validation Loss Decreased \tSaving Model...\n",
      "Epoch: 36 \tTraining Loss: 0.737722 \tValidation Loss: 0.699017 \tLeast Validation Loss Recorded: 0.699017\n",
      "Epoch: 37 \tTraining Loss: 0.738155 \tValidation Loss: 0.710850 \tLeast Validation Loss Recorded: 0.699017\n",
      "Epoch: 38 \tTraining Loss: 0.738034 \tValidation Loss: 0.730936 \tLeast Validation Loss Recorded: 0.699017\n",
      "Least Validation Loss Decreased \tSaving Model...\n",
      "Epoch: 39 \tTraining Loss: 0.739121 \tValidation Loss: 0.697437 \tLeast Validation Loss Recorded: 0.697437\n",
      "Epoch: 40 \tTraining Loss: 0.729142 \tValidation Loss: 0.703841 \tLeast Validation Loss Recorded: 0.697437\n",
      "Epoch: 41 \tTraining Loss: 0.736117 \tValidation Loss: 0.700995 \tLeast Validation Loss Recorded: 0.697437\n",
      "Least Validation Loss Decreased \tSaving Model...\n",
      "Epoch: 42 \tTraining Loss: 0.735920 \tValidation Loss: 0.687963 \tLeast Validation Loss Recorded: 0.687963\n",
      "Least Validation Loss Decreased \tSaving Model...\n",
      "Epoch: 43 \tTraining Loss: 0.734620 \tValidation Loss: 0.669901 \tLeast Validation Loss Recorded: 0.669901\n",
      "Epoch: 44 \tTraining Loss: 0.735487 \tValidation Loss: 0.691225 \tLeast Validation Loss Recorded: 0.669901\n",
      "Epoch: 45 \tTraining Loss: 0.733968 \tValidation Loss: 0.729430 \tLeast Validation Loss Recorded: 0.669901\n",
      "Epoch: 46 \tTraining Loss: 0.726034 \tValidation Loss: 0.714702 \tLeast Validation Loss Recorded: 0.669901\n",
      "Epoch: 47 \tTraining Loss: 0.736920 \tValidation Loss: 0.710056 \tLeast Validation Loss Recorded: 0.669901\n",
      "Epoch: 48 \tTraining Loss: 0.736885 \tValidation Loss: 0.735407 \tLeast Validation Loss Recorded: 0.669901\n",
      "Epoch: 49 \tTraining Loss: 0.736400 \tValidation Loss: 0.698729 \tLeast Validation Loss Recorded: 0.669901\n",
      "Epoch: 50 \tTraining Loss: 0.731438 \tValidation Loss: 0.701761 \tLeast Validation Loss Recorded: 0.669901\n"
     ]
    }
   ],
   "source": [
    "## YOUR CODE HERE ##\n",
    "epochs = 50\n",
    "min_val_loss = np.Inf\n",
    "T_losses = []\n",
    "V_losses = []\n",
    "print(f\"Training on {epochs} epochs...\")\n",
    "for epoch in range(1,epochs+1):\n",
    "    train_loss = 0.0\n",
    "    valid_loss = 0.0\n",
    "    \n",
    "    model.train()\n",
    "    for image,label in train_loader:\n",
    "        data, target = image.cuda(), label.cuda()\n",
    "        \n",
    "        optimizer.zero_grad()\n",
    "        \n",
    "        output = model(data)\n",
    "        loss = loss_fn(output,target)\n",
    "        loss.backward()\n",
    "        optimizer.step()\n",
    "        \n",
    "        train_loss += loss.item()*data.size(0)\n",
    "        \n",
    "    model.eval()\n",
    "    for image,label in valid_loader:\n",
    "        \n",
    "        data, target = image.cuda(), label.cuda()\n",
    "        \n",
    "        output = model(data)\n",
    "        \n",
    "        loss = loss_fn(output,target)\n",
    "        \n",
    "        valid_loss += loss.item()*data.size(0)\n",
    "    \n",
    "    train_loss = train_loss/len(train_loader.sampler)\n",
    "    valid_loss = valid_loss/len(valid_loader.sampler)  \n",
    "    \n",
    "    T_losses.append(train_loss)\n",
    "    V_losses.append(valid_loss)\n",
    "    \n",
    "    if(valid_loss<min_val_loss):\n",
    "        print(\"Least Validation Loss Decreased \\tSaving Model...\")\n",
    "        torch.save(model.state_dict(), 'model.pt')\n",
    "        min_val_loss = valid_loss\n",
    "    \n",
    "    print('Epoch: {} \\tTraining Loss: {:.6f} \\tValidation Loss: {:.6f} \\tLeast Validation Loss Recorded: {:.6f}'\n",
    "          .format(epoch, train_loss, valid_loss,min_val_loss))"
   ]
  },
  {
   "cell_type": "markdown",
   "metadata": {},
   "source": [
    "Plot the training loss (and validation loss/accuracy, if recorded)."
   ]
  },
  {
   "cell_type": "code",
   "execution_count": 8,
   "metadata": {},
   "outputs": [
    {
     "data": {
      "image/png": "[encoded data removed]",
      "text/plain": [
       "<Figure size 432x288 with 1 Axes>"
      ]
     },
     "metadata": {
      "needs_background": "light"
     },
     "output_type": "display_data"
    }
   ],
   "source": [
    "## YOUR CODE HERE ##\n",
    "plt.plot(list(range(1,epochs+1)),T_losses,\"r-\",label = 'Training Loss')\n",
    "plt.plot(list(range(1,epochs+1)),V_losses,\"g-\",label = 'Validation Loss')\n",
    "plt.legend()\n",
    "plt.show()"
   ]
  },
  {
   "cell_type": "markdown",
   "metadata": {},
   "source": [
    "## Testing your model\n",
    "Using the previously created `DataLoader` for the test set, compute the percentage of correct predictions using the highest probability prediction. \n",
    "\n",
    "If your accuracy is over 70%, great work! \n",
    "This is a hard task to exceed 70% on.\n",
    "\n",
    "If your accuracy is under 45%, you'll need to make improvements.\n",
    "Go back and check your model architecture, loss function, and optimizer to make sure they're appropriate for an image classification task."
   ]
  },
  {
   "cell_type": "code",
   "execution_count": 9,
   "metadata": {},
   "outputs": [
    {
     "name": "stdout",
     "output_type": "stream",
     "text": [
      "Test Loss: 0.523687\n",
      "\n",
      "Test Accuracy of plane: 79% (624/788)\n",
      "Test Accuracy of   car: 85% (682/799)\n",
      "Test Accuracy of  bird: 65% (526/797)\n",
      "Test Accuracy of   cat: 57% (460/800)\n",
      "Test Accuracy of  deer: 77% (631/817)\n",
      "Test Accuracy of   dog: 69% (555/797)\n",
      "Test Accuracy of  frog: 86% (679/783)\n",
      "Test Accuracy of horse: 85% (676/789)\n",
      "Test Accuracy of  ship: 86% (692/802)\n",
      "Test Accuracy of truck: 87% (726/828)\n",
      "\n",
      "Test Accuracy (Overall): 78% (6251/8000)\n"
     ]
    }
   ],
   "source": [
    "## YOUR CODE HERE ##\n",
    "test_loss = 0.0\n",
    "class_correct = list(0. for i in range(10))\n",
    "class_total = list(0. for i in range(10))\n",
    "\n",
    "model.load_state_dict(torch.load('model.pt'))\n",
    "\n",
    "model.eval()\n",
    "for batch_idx, (data, target) in enumerate(test_loader):\n",
    "    data, target = data.cuda(), target.cuda()\n",
    "\n",
    "    output = model(data)\n",
    "    loss = loss_fn(output, target)\n",
    "    test_loss += loss.item()*data.size(0)\n",
    "    _, pred = torch.max(output, 1)    \n",
    "\n",
    "    correct_tensor = pred.eq(target.data.view_as(pred))\n",
    "    correct = np.squeeze(correct_tensor.cpu().numpy())\n",
    "    for i in range(20):\n",
    "        label = target.data[i]\n",
    "        class_correct[label] += correct[i].item()\n",
    "        class_total[label] += 1\n",
    "\n",
    "test_loss = test_loss/len(test_loader.dataset)\n",
    "print('Test Loss: {:.6f}\\n'.format(test_loss))\n",
    "\n",
    "for i in range(10):\n",
    "    if class_total[i] > 0:\n",
    "        print('Test Accuracy of %5s: %2d%% (%2d/%2d)' % (\n",
    "            classes[i], 100 * class_correct[i] / class_total[i],\n",
    "            np.sum(class_correct[i]), np.sum(class_total[i])))\n",
    "    else:\n",
    "        print('Test Accuracy of %5s: N/A (no training examples)' % (classes[i]))\n",
    "\n",
    "print('\\nTest Accuracy (Overall): %2d%% (%2d/%2d)' % (\n",
    "    100. * np.sum(class_correct) / np.sum(class_total),\n",
    "    np.sum(class_correct), np.sum(class_total)))"
   ]
  },
  {
   "cell_type": "markdown",
   "metadata": {},
   "source": [
    "## Saving your model\n",
    "Using `torch.save`, save your model for future loading."
   ]
  },
  {
   "cell_type": "code",
   "execution_count": 11,
   "metadata": {},
   "outputs": [],
   "source": [
    "## YOUR CODE HERE ##\n",
    "final_checkpoint = {'state_dict':model.state_dict(),'optim_dict':optimizer.state_dict(),'epoch':epochs}\n",
    "torch.save(final_checkpoint, 'final_model.pt')"
   ]
  },
  {
   "cell_type": "markdown",
   "metadata": {},
   "source": [
    "## Make a Recommendation\n",
    "\n",
    "Based on your evaluation, what is your recommendation on whether to build or buy? Explain your reasoning below."
   ]
  },
  {
   "cell_type": "markdown",
   "metadata": {},
   "source": [
    "**Result:** I recommend building our own model as in the few attempts, we outperformed the listed model with 78% accuracy to 70%. Also, our model is not bulky or computation hungry, and it's fast while training and predicting and I believe if we put in some more efforts, we can increase it to somewhere around 80-85%, which is a great model given that we were going for a 70% model. \n",
    "\n",
    "My model slightly under performs w.r.t deep belief networks"
   ]
  }
 ],
 "metadata": {
  "kernelspec": {
   "display_name": "Python 3",
   "language": "python",
   "name": "python3"
  },
  "language_info": {
   "codemirror_mode": {
    "name": "ipython",
    "version": 3
   },
   "file_extension": ".py",
   "mimetype": "text/x-python",
   "name": "python",
   "nbconvert_exporter": "python",
   "pygments_lexer": "ipython3",
   "version": "3.8.3"
  }
 },
 "nbformat": 4,
 "nbformat_minor": 4
}
