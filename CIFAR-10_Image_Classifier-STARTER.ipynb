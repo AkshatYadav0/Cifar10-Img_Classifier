{
 "cells": [
  {
   "cell_type": "markdown",
   "metadata": {},
   "source": [
    "# Introduction\n",
    "\n",
    "In this project, you will build a neural network of your own design to evaluate the CIFAR-10 dataset.\n",
    "Our target accuracy is 70%, but any accuracy over 50% is a great start.\n",
    "Some of the benchmark results on CIFAR-10 include:\n",
    "\n",
    "78.9% Accuracy | [Deep Belief Networks; Krizhevsky, 2010](https://www.cs.toronto.edu/~kriz/conv-cifar10-aug2010.pdf)\n",
    "\n",
    "90.6% Accuracy | [Maxout Networks; Goodfellow et al., 2013](https://arxiv.org/pdf/1302.4389.pdf)\n",
    "\n",
    "96.0% Accuracy | [Wide Residual Networks; Zagoruyko et al., 2016](https://arxiv.org/pdf/1605.07146.pdf)\n",
    "\n",
    "99.0% Accuracy | [GPipe; Huang et al., 2018](https://arxiv.org/pdf/1811.06965.pdf)\n",
    "\n",
    "98.5% Accuracy | [Rethinking Recurrent Neural Networks and other Improvements for ImageClassification; Nguyen et al., 2020](https://arxiv.org/pdf/2007.15161.pdf)\n",
    "\n",
    "Research with this dataset is ongoing. Notably, many of these networks are quite large and quite expensive to train. \n",
    "\n",
    "## Imports"
   ]
  },
  {
   "cell_type": "code",
   "execution_count": 1,
   "metadata": {},
   "outputs": [],
   "source": [
    "## This cell contains the essential imports you will need – DO NOT CHANGE THE CONTENTS! ##\n",
    "import torch\n",
    "import torch.nn as nn\n",
    "import torch.nn.functional as F\n",
    "import torch.optim as optim\n",
    "import torchvision\n",
    "import torchvision.transforms as transforms\n",
    "import matplotlib.pyplot as plt\n",
    "import numpy as np"
   ]
  },
  {
   "cell_type": "markdown",
   "metadata": {},
   "source": [
    "## Load the Dataset\n",
    "\n",
    "Specify your transforms as a list first.\n",
    "The transforms module is already loaded as `transforms`.\n",
    "\n",
    "CIFAR-10 is fortunately included in the torchvision module.\n",
    "Then, you can create your dataset using the `CIFAR10` object from `torchvision.datasets` ([the documentation is available here](https://pytorch.org/docs/stable/torchvision/datasets.html#cifar)).\n",
    "Make sure to specify `download=True`! \n",
    "\n",
    "Once your dataset is created, you'll also need to define a `DataLoader` from the `torch.utils.data` module for both the train and the test set."
   ]
  },
  {
   "cell_type": "code",
   "execution_count": 2,
   "metadata": {},
   "outputs": [
    {
     "name": "stdout",
     "output_type": "stream",
     "text": [
      "Files already downloaded and verified\n",
      "Files already downloaded and verified\n"
     ]
    }
   ],
   "source": [
    "# Define transforms\n",
    "## YOUR CODE HERE ##\n",
    "from torchvision import datasets\n",
    "from  torch.utils.data import DataLoader\n",
    "from torch.utils.data.sampler import SubsetRandomSampler\n",
    "\n",
    "train_transform = transforms.Compose([\n",
    "                                transforms.RandomHorizontalFlip(), # randomly flip and rotate\n",
    "                                transforms.RandomRotation(10),\n",
    "                                transforms.ToTensor(),\n",
    "                                transforms.Normalize((0.485, 0.456, 0.406), (0.229, 0.224, 0.225))\n",
    "                                ])\n",
    "test_transform = transforms.Compose([\n",
    "                                transforms.ToTensor(),\n",
    "                                transforms.Normalize((0.485, 0.456, 0.406), (0.229, 0.224, 0.225))\n",
    "                                ])\n",
    "#transforms.GaussianBlur(kernel_size, sigma=(0.1, 2.0))\n",
    "\n",
    "# Create training set and define training dataloader\n",
    "## YOUR CODE HERE ##\n",
    "\n",
    "# choose the training and test datasets\n",
    "train_data = datasets.CIFAR10('data', train=True, download=True, transform=train_transform)\n",
    "\n",
    "\n",
    "valid_size = 0.2\n",
    "num_train = len(train_data)\n",
    "indices = list(range(num_train))\n",
    "np.random.shuffle(indices)\n",
    "split = int(np.floor(valid_size * num_train))\n",
    "train_idx, valid_idx = indices[split:], indices[:split]\n",
    "train_sampler = SubsetRandomSampler(train_idx)\n",
    "valid_sampler = SubsetRandomSampler(valid_idx)\n",
    "\n",
    "\n",
    "train_loader = DataLoader(train_data,batch_size=32,sampler=train_sampler, num_workers=0)\n",
    "valid_loader = DataLoader(train_data,batch_size=32,sampler=valid_sampler, num_workers=0)\n",
    "\n",
    "\n",
    "\n",
    "# Create test set and define test dataloader\n",
    "## YOUR CODE HERE ##\n",
    "test_data = datasets.CIFAR10('data', train=False,download=True, transform=test_transform)\n",
    "test_loader = DataLoader(test_data,batch_size=20,num_workers=0)\n",
    "# The 10 classes in the dataset\n",
    "classes = ('plane', 'car', 'bird', 'cat', 'deer', 'dog', 'frog', 'horse', 'ship', 'truck')"
   ]
  },
  {
   "cell_type": "markdown",
   "metadata": {},
   "source": [
    "## Explore the Dataset\n",
    "Using matplotlib, numpy, and torch, explore the dimensions of your data.\n",
    "\n",
    "You can view images using the `show5` function defined below – it takes a data loader as an argument.\n",
    "Remember that normalized images will look really weird to you! You may want to try changing your transforms to view images.\n",
    "Typically using no transforms other than `toTensor()` works well for viewing – but not as well for training your network.\n",
    "If `show5` doesn't work, go back and check your code for creating your data loaders and your training/test sets."
   ]
  },
  {
   "cell_type": "code",
   "execution_count": 20,
   "metadata": {},
   "outputs": [],
   "source": [
    "def show5(img_loader):\n",
    "    dataiter = iter(img_loader)\n",
    "    \n",
    "    batch = next(dataiter)\n",
    "    labels = batch[1][0:5]\n",
    "    images = batch[0][0:5]\n",
    "    for i in range(5):\n",
    "        print(classes[labels[i]])\n",
    "        image = images[i].numpy()\n",
    "        plt.imshow(image.T.clip(0,1))\n",
    "        plt.show()"
   ]
  },
  {
   "cell_type": "code",
   "execution_count": 21,
   "metadata": {},
   "outputs": [
    {
     "name": "stdout",
     "output_type": "stream",
     "text": [
      "training image size(D,H,W):  torch.Size([3, 32, 32])\n",
      "frog\n"
     ]
    },
    {
     "data": {
      "image/png": "[encoded data removed]",
      "text/plain": [
       "<Figure size 432x288 with 1 Axes>"
      ]
     },
     "metadata": {
      "needs_background": "light"
     },
     "output_type": "display_data"
    },
    {
     "name": "stdout",
     "output_type": "stream",
     "text": [
      "plane\n"
     ]
    },
    {
     "data": {
      "image/png": "[encoded data removed]",
      "text/plain": [
       "<Figure size 432x288 with 1 Axes>"
      ]
     },
     "metadata": {
      "needs_background": "light"
     },
     "output_type": "display_data"
    },
    {
     "name": "stdout",
     "output_type": "stream",
     "text": [
      "horse\n"
     ]
    },
    {
     "data": {
      "image/png": "[encoded data removed]",
      "text/plain": [
       "<Figure size 432x288 with 1 Axes>"
      ]
     },
     "metadata": {
      "needs_background": "light"
     },
     "output_type": "display_data"
    },
    {
     "name": "stdout",
     "output_type": "stream",
     "text": [
      "dog\n"
     ]
    },
    {
     "data": {
      "image/png": "[encoded data removed]",
      "text/plain": [
       "<Figure size 432x288 with 1 Axes>"
      ]
     },
     "metadata": {
      "needs_background": "light"
     },
     "output_type": "display_data"
    },
    {
     "name": "stdout",
     "output_type": "stream",
     "text": [
      "horse\n"
     ]
    },
    {
     "data": {
      "image/png": "[encoded data removed]",
      "text/plain": [
       "<Figure size 432x288 with 1 Axes>"
      ]
     },
     "metadata": {
      "needs_background": "light"
     },
     "output_type": "display_data"
    }
   ],
   "source": [
    "# Explore data\n",
    "## YOUR CODE HERE ##\n",
    "dataiter = iter(train_loader)\n",
    "batch = next(dataiter)\n",
    "images = batch[0][0]\n",
    "print(\"training image size(D,H,W): \",images.shape)\n",
    "\n",
    "show5(train_loader)"
   ]
  },
  {
   "cell_type": "markdown",
   "metadata": {},
   "source": [
    "## Build your Neural Network\n",
    "Using the layers in `torch.nn` (which has been imported as `nn`) and the `torch.nn.functional` module (imported as `F`), construct a neural network based on the parameters of the dataset. \n",
    "Feel free to construct a model of any architecture – feedforward, convolutional, or even something more advanced!"
   ]
  },
  {
   "cell_type": "code",
   "execution_count": 5,
   "metadata": {},
   "outputs": [],
   "source": [
    "## YOUR CODE HERE ##\n",
    "class Model(nn.Module):\n",
    "    def __init__(self):\n",
    "        super(Model,self).__init__()\n",
    "        self.c1 = nn.Conv2d(3,32,3,padding=1) # out_______16x16\n",
    "        self.c2 = nn.Conv2d(32,64,3,padding=1) # out______8x8\n",
    "        self.c3 = nn.Conv2d(64,128,3,padding=1) # out_____4x4\n",
    "        self.c4 = nn.Conv2d(128,32,3,padding=1) # out_____2x2\n",
    "\n",
    "        self.pool = nn.MaxPool2d(2,2)\n",
    "        self.drop1 = nn.Dropout(p=0.3)\n",
    "        self.drop = nn.Dropout(p=0.23)\n",
    "        \n",
    "        self.f1 = nn.Linear(32*2*2,512)\n",
    "        self.f2 = nn.Linear(512,256)\n",
    "        self.f3 = nn.Linear(256,128)\n",
    "        self.f4 = nn.Linear(128,10)\n",
    "    \n",
    "    def forward(self,x):\n",
    "        x = self.pool(self.c1(x))\n",
    "        x = self.pool(self.c2(x))\n",
    "        x = self.pool(self.c3(x))\n",
    "        x = self.pool(self.c4(x))\n",
    "\n",
    "        x = x.view(-1,32*2*2)\n",
    "        \n",
    "        x = self.drop(x)\n",
    "        x = F.relu(self.drop(self.f1(x)))\n",
    "        x = F.relu(self.drop1(self.f2(x)))\n",
    "        x = F.relu(self.drop(self.f3(x)))\n",
    "        x = self.f4(x)\n",
    "        return x"
   ]
  },
  {
   "cell_type": "markdown",
   "metadata": {},
   "source": [
    "Specify a loss function and an optimizer, and instantiate the model.\n",
    "\n",
    "If you use a less common loss function, please note why you chose that loss function in a comment."
   ]
  },
  {
   "cell_type": "code",
   "execution_count": 6,
   "metadata": {},
   "outputs": [
    {
     "name": "stdout",
     "output_type": "stream",
     "text": [
      "Model(\n",
      "  (c1): Conv2d(3, 32, kernel_size=(3, 3), stride=(1, 1), padding=(1, 1))\n",
      "  (c2): Conv2d(32, 64, kernel_size=(3, 3), stride=(1, 1), padding=(1, 1))\n",
      "  (c3): Conv2d(64, 128, kernel_size=(3, 3), stride=(1, 1), padding=(1, 1))\n",
      "  (c4): Conv2d(128, 32, kernel_size=(3, 3), stride=(1, 1), padding=(1, 1))\n",
      "  (pool): MaxPool2d(kernel_size=2, stride=2, padding=0, dilation=1, ceil_mode=False)\n",
      "  (drop1): Dropout(p=0.3, inplace=False)\n",
      "  (drop): Dropout(p=0.23, inplace=False)\n",
      "  (f1): Linear(in_features=128, out_features=512, bias=True)\n",
      "  (f2): Linear(in_features=512, out_features=256, bias=True)\n",
      "  (f3): Linear(in_features=256, out_features=128, bias=True)\n",
      "  (f4): Linear(in_features=128, out_features=10, bias=True)\n",
      ")\n"
     ]
    }
   ],
   "source": [
    "## YOUR CODE HERE ##\n",
    "model = Model()\n",
    "model.cuda()\n",
    "print(model)\n",
    "loss_fn = nn.CrossEntropyLoss()\n",
    "optimizer = optim.SGD(model.parameters(), lr=0.01,momentum=0.8)"
   ]
  },
  {
   "cell_type": "markdown",
   "metadata": {},
   "source": [
    "## Running your Neural Network\n",
    "Use whatever method you like to train your neural network, and ensure you record the average loss at each epoch. \n",
    "Don't forget to use `torch.device()` and the `.to()` method for both your model and your data if you are using GPU!\n",
    "\n",
    "If you want to print your loss during each epoch, you can use the `enumerate` function and print the loss after a set number of batches. 250 batches works well for most people!"
   ]
  },
  {
   "cell_type": "code",
   "execution_count": 7,
   "metadata": {},
   "outputs": [
    {
     "name": "stdout",
     "output_type": "stream",
     "text": [
      "Training on 50 epochs...\n",
      "Least Validation Loss Decreased \tSaving Model...\n",
      "Epoch: 1 \tTraining Loss: 1.972778 \tValidation Loss: 1.601839 \tLeast Validation Loss Recorded: 1.601839\n",
      "Least Validation Loss Decreased \tSaving Model...\n",
      "Epoch: 2 \tTraining Loss: 1.523269 \tValidation Loss: 1.303459 \tLeast Validation Loss Recorded: 1.303459\n",
      "Least Validation Loss Decreased \tSaving Model...\n",
      "Epoch: 3 \tTraining Loss: 1.346791 \tValidation Loss: 1.198030 \tLeast Validation Loss Recorded: 1.198030\n",
      "Least Validation Loss Decreased \tSaving Model...\n",
      "Epoch: 4 \tTraining Loss: 1.240322 \tValidation Loss: 1.131693 \tLeast Validation Loss Recorded: 1.131693\n",
      "Least Validation Loss Decreased \tSaving Model...\n",
      "Epoch: 5 \tTraining Loss: 1.160279 \tValidation Loss: 1.062672 \tLeast Validation Loss Recorded: 1.062672\n",
      "Least Validation Loss Decreased \tSaving Model...\n",
      "Epoch: 6 \tTraining Loss: 1.101277 \tValidation Loss: 1.022879 \tLeast Validation Loss Recorded: 1.022879\n",
      "Least Validation Loss Decreased \tSaving Model...\n",
      "Epoch: 7 \tTraining Loss: 1.053294 \tValidation Loss: 1.002699 \tLeast Validation Loss Recorded: 1.002699\n",
      "Least Validation Loss Decreased \tSaving Model...\n",
      "Epoch: 8 \tTraining Loss: 1.022383 \tValidation Loss: 0.934782 \tLeast Validation Loss Recorded: 0.934782\n",
      "Least Validation Loss Decreased \tSaving Model...\n",
      "Epoch: 9 \tTraining Loss: 0.995151 \tValidation Loss: 0.882470 \tLeast Validation Loss Recorded: 0.882470\n",
      "Least Validation Loss Decreased \tSaving Model...\n",
      "Epoch: 10 \tTraining Loss: 0.968851 \tValidation Loss: 0.855500 \tLeast Validation Loss Recorded: 0.855500\n",
      "Least Validation Loss Decreased \tSaving Model...\n",
      "Epoch: 11 \tTraining Loss: 0.947540 \tValidation Loss: 0.845373 \tLeast Validation Loss Recorded: 0.845373\n",
      "Epoch: 12 \tTraining Loss: 0.932799 \tValidation Loss: 0.872301 \tLeast Validation Loss Recorded: 0.845373\n",
      "Least Validation Loss Decreased \tSaving Model...\n",
      "Epoch: 13 \tTraining Loss: 0.910402 \tValidation Loss: 0.835948 \tLeast Validation Loss Recorded: 0.835948\n",
      "Least Validation Loss Decreased \tSaving Model...\n",
      "Epoch: 14 \tTraining Loss: 0.906579 \tValidation Loss: 0.824647 \tLeast Validation Loss Recorded: 0.824647\n",
      "Least Validation Loss Decreased \tSaving Model...\n",
      "Epoch: 15 \tTraining Loss: 0.900471 \tValidation Loss: 0.800531 \tLeast Validation Loss Recorded: 0.800531\n",
      "Epoch: 16 \tTraining Loss: 0.881970 \tValidation Loss: 0.813185 \tLeast Validation Loss Recorded: 0.800531\n",
      "Epoch: 17 \tTraining Loss: 0.885165 \tValidation Loss: 0.843283 \tLeast Validation Loss Recorded: 0.800531\n",
      "Epoch: 18 \tTraining Loss: 0.862456 \tValidation Loss: 0.803592 \tLeast Validation Loss Recorded: 0.800531\n",
      "Least Validation Loss Decreased \tSaving Model...\n",
      "Epoch: 19 \tTraining Loss: 0.862033 \tValidation Loss: 0.785420 \tLeast Validation Loss Recorded: 0.785420\n",
      "Epoch: 20 \tTraining Loss: 0.859699 \tValidation Loss: 0.803826 \tLeast Validation Loss Recorded: 0.785420\n",
      "Least Validation Loss Decreased \tSaving Model...\n",
      "Epoch: 21 \tTraining Loss: 0.857160 \tValidation Loss: 0.781332 \tLeast Validation Loss Recorded: 0.781332\n",
      "Least Validation Loss Decreased \tSaving Model...\n",
      "Epoch: 22 \tTraining Loss: 0.845435 \tValidation Loss: 0.776789 \tLeast Validation Loss Recorded: 0.776789\n",
      "Least Validation Loss Decreased \tSaving Model...\n",
      "Epoch: 23 \tTraining Loss: 0.841274 \tValidation Loss: 0.762493 \tLeast Validation Loss Recorded: 0.762493\n",
      "Epoch: 24 \tTraining Loss: 0.842021 \tValidation Loss: 0.788167 \tLeast Validation Loss Recorded: 0.762493\n",
      "Epoch: 25 \tTraining Loss: 0.840598 \tValidation Loss: 0.768090 \tLeast Validation Loss Recorded: 0.762493\n",
      "Epoch: 26 \tTraining Loss: 0.834003 \tValidation Loss: 0.807712 \tLeast Validation Loss Recorded: 0.762493\n",
      "Epoch: 27 \tTraining Loss: 0.827617 \tValidation Loss: 0.774680 \tLeast Validation Loss Recorded: 0.762493\n",
      "Least Validation Loss Decreased \tSaving Model...\n",
      "Epoch: 28 \tTraining Loss: 0.827857 \tValidation Loss: 0.752670 \tLeast Validation Loss Recorded: 0.752670\n",
      "Epoch: 29 \tTraining Loss: 0.826188 \tValidation Loss: 0.768839 \tLeast Validation Loss Recorded: 0.752670\n",
      "Epoch: 30 \tTraining Loss: 0.824743 \tValidation Loss: 0.772021 \tLeast Validation Loss Recorded: 0.752670\n",
      "Epoch: 31 \tTraining Loss: 0.821558 \tValidation Loss: 0.757676 \tLeast Validation Loss Recorded: 0.752670\n",
      "Epoch: 32 \tTraining Loss: 0.818304 \tValidation Loss: 0.775123 \tLeast Validation Loss Recorded: 0.752670\n",
      "Epoch: 33 \tTraining Loss: 0.820005 \tValidation Loss: 0.760825 \tLeast Validation Loss Recorded: 0.752670\n",
      "Least Validation Loss Decreased \tSaving Model...\n",
      "Epoch: 34 \tTraining Loss: 0.821084 \tValidation Loss: 0.730437 \tLeast Validation Loss Recorded: 0.730437\n",
      "Epoch: 35 \tTraining Loss: 0.826204 \tValidation Loss: 0.789933 \tLeast Validation Loss Recorded: 0.730437\n",
      "Epoch: 36 \tTraining Loss: 0.818825 \tValidation Loss: 0.782572 \tLeast Validation Loss Recorded: 0.730437\n",
      "Epoch: 37 \tTraining Loss: 0.829540 \tValidation Loss: 0.801080 \tLeast Validation Loss Recorded: 0.730437\n",
      "Epoch: 38 \tTraining Loss: 0.830470 \tValidation Loss: 0.791077 \tLeast Validation Loss Recorded: 0.730437\n",
      "Epoch: 39 \tTraining Loss: 0.832770 \tValidation Loss: 0.766534 \tLeast Validation Loss Recorded: 0.730437\n",
      "Epoch: 40 \tTraining Loss: 0.834794 \tValidation Loss: 0.789013 \tLeast Validation Loss Recorded: 0.730437\n",
      "Epoch: 41 \tTraining Loss: 0.827229 \tValidation Loss: 0.770080 \tLeast Validation Loss Recorded: 0.730437\n",
      "Epoch: 42 \tTraining Loss: 0.823963 \tValidation Loss: 0.803536 \tLeast Validation Loss Recorded: 0.730437\n",
      "Epoch: 43 \tTraining Loss: 0.839302 \tValidation Loss: 0.778273 \tLeast Validation Loss Recorded: 0.730437\n",
      "Epoch: 44 \tTraining Loss: 0.833927 \tValidation Loss: 0.784385 \tLeast Validation Loss Recorded: 0.730437\n",
      "Epoch: 45 \tTraining Loss: 0.848679 \tValidation Loss: 0.762856 \tLeast Validation Loss Recorded: 0.730437\n",
      "Epoch: 46 \tTraining Loss: 0.844734 \tValidation Loss: 0.813064 \tLeast Validation Loss Recorded: 0.730437\n",
      "Epoch: 47 \tTraining Loss: 0.847947 \tValidation Loss: 0.841984 \tLeast Validation Loss Recorded: 0.730437\n",
      "Epoch: 48 \tTraining Loss: 0.845990 \tValidation Loss: 0.840171 \tLeast Validation Loss Recorded: 0.730437\n",
      "Epoch: 49 \tTraining Loss: 0.853527 \tValidation Loss: 0.779194 \tLeast Validation Loss Recorded: 0.730437\n",
      "Epoch: 50 \tTraining Loss: 0.843173 \tValidation Loss: 0.798911 \tLeast Validation Loss Recorded: 0.730437\n"
     ]
    }
   ],
   "source": [
    "## YOUR CODE HERE ##\n",
    "epochs = 50\n",
    "min_val_loss = np.Inf\n",
    "T_losses = []\n",
    "V_losses = []\n",
    "print(f\"Training on {epochs} epochs...\")\n",
    "for epoch in range(1,epochs+1):\n",
    "    train_loss = 0.0\n",
    "    valid_loss = 0.0\n",
    "    \n",
    "    model.train()\n",
    "    for image,label in train_loader:\n",
    "        data, target = image.cuda(), label.cuda()\n",
    "        \n",
    "        optimizer.zero_grad()\n",
    "        \n",
    "        output = model(data)\n",
    "        loss = loss_fn(output,target)\n",
    "        loss.backward()\n",
    "        optimizer.step()\n",
    "        \n",
    "        train_loss += loss.item()*data.size(0)\n",
    "        \n",
    "    model.eval()\n",
    "    for image,label in valid_loader:\n",
    "        \n",
    "        data, target = image.cuda(), label.cuda()\n",
    "        \n",
    "        output = model(data)\n",
    "        \n",
    "        loss = loss_fn(output,target)\n",
    "        \n",
    "        valid_loss += loss.item()*data.size(0)\n",
    "    \n",
    "    train_loss = train_loss/len(train_loader.sampler)\n",
    "    valid_loss = valid_loss/len(valid_loader.sampler)  \n",
    "    \n",
    "    T_losses.append(train_loss)\n",
    "    V_losses.append(valid_loss)\n",
    "    \n",
    "    if(valid_loss<min_val_loss):\n",
    "        print(\"Least Validation Loss Decreased \\tSaving Model...\")\n",
    "        torch.save(model.state_dict(), 'model.pt')\n",
    "        min_val_loss = valid_loss\n",
    "    \n",
    "    print('Epoch: {} \\tTraining Loss: {:.6f} \\tValidation Loss: {:.6f} \\tLeast Validation Loss Recorded: {:.6f}'\n",
    "          .format(epoch, train_loss, valid_loss,min_val_loss))"
   ]
  },
  {
   "cell_type": "markdown",
   "metadata": {},
   "source": [
    "Plot the training loss (and validation loss/accuracy, if recorded)."
   ]
  },
  {
   "cell_type": "code",
   "execution_count": 8,
   "metadata": {},
   "outputs": [
    {
     "data": {
      "image/png": "[encoded data removed]",
      "text/plain": [
       "<Figure size 432x288 with 1 Axes>"
      ]
     },
     "metadata": {
      "needs_background": "light"
     },
     "output_type": "display_data"
    }
   ],
   "source": [
    "## YOUR CODE HERE ##\n",
    "plt.plot(list(range(1,epochs+1)),T_losses,\"r-\",label = 'Training Loss')\n",
    "plt.plot(list(range(1,epochs+1)),V_losses,\"g-\",label = 'Validation Loss')\n",
    "plt.legend()\n",
    "plt.show()"
   ]
  },
  {
   "cell_type": "markdown",
   "metadata": {},
   "source": [
    "## Testing your model\n",
    "Using the previously created `DataLoader` for the test set, compute the percentage of correct predictions using the highest probability prediction. \n",
    "\n",
    "If your accuracy is over 70%, great work! \n",
    "This is a hard task to exceed 70% on.\n",
    "\n",
    "If your accuracy is under 45%, you'll need to make improvements.\n",
    "Go back and check your model architecture, loss function, and optimizer to make sure they're appropriate for an image classification task."
   ]
  },
  {
   "cell_type": "code",
   "execution_count": 9,
   "metadata": {},
   "outputs": [
    {
     "name": "stdout",
     "output_type": "stream",
     "text": [
      "Test Loss: 0.703371\n",
      "\n",
      "Test Accuracy of plane: 79% (791/1000)\n",
      "Test Accuracy of   car: 85% (853/1000)\n",
      "Test Accuracy of  bird: 59% (594/1000)\n",
      "Test Accuracy of   cat: 66% (666/1000)\n",
      "Test Accuracy of  deer: 77% (778/1000)\n",
      "Test Accuracy of   dog: 61% (611/1000)\n",
      "Test Accuracy of  frog: 81% (816/1000)\n",
      "Test Accuracy of horse: 82% (821/1000)\n",
      "Test Accuracy of  ship: 84% (849/1000)\n",
      "Test Accuracy of truck: 88% (887/1000)\n",
      "\n",
      "Test Accuracy (Overall): 76% (7666/10000)\n"
     ]
    }
   ],
   "source": [
    "## YOUR CODE HERE ##\n",
    "test_loss = 0.0\n",
    "class_correct = list(0. for i in range(10))\n",
    "class_total = list(0. for i in range(10))\n",
    "\n",
    "model.load_state_dict(torch.load('model.pt'))\n",
    "\n",
    "model.eval()\n",
    "for batch_idx, (data, target) in enumerate(test_loader):\n",
    "    data, target = data.cuda(), target.cuda()\n",
    "\n",
    "    output = model(data)\n",
    "    loss = loss_fn(output, target)\n",
    "    test_loss += loss.item()*data.size(0)\n",
    "    _, pred = torch.max(output, 1)    \n",
    "\n",
    "    correct_tensor = pred.eq(target.data.view_as(pred))\n",
    "    correct = np.squeeze(correct_tensor.cpu().numpy())\n",
    "    for i in range(20):\n",
    "        label = target.data[i]\n",
    "        class_correct[label] += correct[i].item()\n",
    "        class_total[label] += 1\n",
    "\n",
    "test_loss = test_loss/len(test_loader.dataset)\n",
    "print('Test Loss: {:.6f}\\n'.format(test_loss))\n",
    "\n",
    "for i in range(10):\n",
    "    if class_total[i] > 0:\n",
    "        print('Test Accuracy of %5s: %2d%% (%2d/%2d)' % (\n",
    "            classes[i], 100 * class_correct[i] / class_total[i],\n",
    "            np.sum(class_correct[i]), np.sum(class_total[i])))\n",
    "    else:\n",
    "        print('Test Accuracy of %5s: N/A (no training examples)' % (classes[i]))\n",
    "\n",
    "print('\\nTest Accuracy (Overall): %2d%% (%2d/%2d)' % (\n",
    "    100. * np.sum(class_correct) / np.sum(class_total),\n",
    "    np.sum(class_correct), np.sum(class_total)))"
   ]
  },
  {
   "cell_type": "markdown",
   "metadata": {},
   "source": [
    "## Saving your model\n",
    "Using `torch.save`, save your model for future loading."
   ]
  },
  {
   "cell_type": "code",
   "execution_count": 10,
   "metadata": {},
   "outputs": [
    {
     "name": "stdout",
     "output_type": "stream",
     "text": [
      "Already Saved During Training\n"
     ]
    }
   ],
   "source": [
    "## YOUR CODE HERE ##\n",
    "print(\"Already Saved During Training\")"
   ]
  },
  {
   "cell_type": "markdown",
   "metadata": {},
   "source": [
    "## Make a Recommendation\n",
    "\n",
    "Based on your evaluation, what is your recommendation on whether to build or buy? Explain your reasoning below."
   ]
  },
  {
   "cell_type": "markdown",
   "metadata": {},
   "source": [
    "**Result:** I recommend building our own model as in the few attempts, we outperformed the listed model with 76% accuracy to 70%. Also, our model is not bulky or computation hungry, and it's fast while training and predicting and I believe if we put in some more efforts, we can increase it to somewhere around 80%, which is a great model given that we were going for a 70% model. "
   ]
  }
 ],
 "metadata": {
  "kernelspec": {
   "display_name": "Python 3",
   "language": "python",
   "name": "python3"
  },
  "language_info": {
   "codemirror_mode": {
    "name": "ipython",
    "version": 3
   },
   "file_extension": ".py",
   "mimetype": "text/x-python",
   "name": "python",
   "nbconvert_exporter": "python",
   "pygments_lexer": "ipython3",
   "version": "3.8.3"
  }
 },
 "nbformat": 4,
 "nbformat_minor": 4
}
